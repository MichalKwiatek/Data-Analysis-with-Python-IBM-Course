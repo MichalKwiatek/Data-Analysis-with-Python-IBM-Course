{
 "cells": [
  {
   "cell_type": "code",
   "execution_count": 1,
   "id": "respiratory-banner",
   "metadata": {},
   "outputs": [],
   "source": [
    "import pandas as pd\n",
    "import numpy as np\n",
    "import matplotlib.pyplot as plt\n",
    "from sklearn.linear_model import LinearRegression\n",
    "from sklearn.preprocessing import PolynomialFeatures\n",
    "from sklearn.preprocessing import StandardScaler\n",
    "from sklearn.pipeline import Pipeline\n",
    "from sklearn.metrics import mean_squared_error\n",
    "import seaborn as sns"
   ]
  },
  {
   "cell_type": "code",
   "execution_count": 2,
   "id": "coordinate-services",
   "metadata": {},
   "outputs": [],
   "source": [
    "df = pd.read_csv('./input/Consumo_cerveja.csv')"
   ]
  },
  {
   "cell_type": "code",
   "execution_count": 3,
   "id": "needed-swedish",
   "metadata": {},
   "outputs": [],
   "source": [
    "df.columns = ['date', 'avg_temp', 'min_temp', 'max_temp', 'rain', 'is_weekend', 'beer_consumption']"
   ]
  },
  {
   "cell_type": "code",
   "execution_count": 4,
   "id": "paperback-coating",
   "metadata": {},
   "outputs": [],
   "source": [
    "df['avg_temp'] = df['avg_temp'].str.replace(',', '.').astype(float)\n",
    "df['min_temp'] = df['min_temp'].str.replace(',', '.').astype(float)\n",
    "df['max_temp'] = df['max_temp'].str.replace(',', '.').astype(float)\n",
    "df['rain'] = df['rain'].str.replace(',', '.').astype(float)"
   ]
  },
  {
   "cell_type": "code",
   "execution_count": 5,
   "id": "qualified-calcium",
   "metadata": {},
   "outputs": [],
   "source": [
    "df = df.dropna()"
   ]
  },
  {
   "cell_type": "code",
   "execution_count": 23,
   "id": "innovative-equipment",
   "metadata": {},
   "outputs": [
    {
     "data": {
      "text/html": [
       "<div>\n",
       "<style scoped>\n",
       "    .dataframe tbody tr th:only-of-type {\n",
       "        vertical-align: middle;\n",
       "    }\n",
       "\n",
       "    .dataframe tbody tr th {\n",
       "        vertical-align: top;\n",
       "    }\n",
       "\n",
       "    .dataframe thead th {\n",
       "        text-align: right;\n",
       "    }\n",
       "</style>\n",
       "<table border=\"1\" class=\"dataframe\">\n",
       "  <thead>\n",
       "    <tr style=\"text-align: right;\">\n",
       "      <th></th>\n",
       "      <th>date</th>\n",
       "      <th>avg_temp</th>\n",
       "      <th>min_temp</th>\n",
       "      <th>max_temp</th>\n",
       "      <th>rain</th>\n",
       "      <th>is_weekend</th>\n",
       "      <th>beer_consumption</th>\n",
       "    </tr>\n",
       "  </thead>\n",
       "  <tbody>\n",
       "    <tr>\n",
       "      <th>0</th>\n",
       "      <td>2015-01-01</td>\n",
       "      <td>27.30</td>\n",
       "      <td>23.9</td>\n",
       "      <td>32.5</td>\n",
       "      <td>0.0</td>\n",
       "      <td>0.0</td>\n",
       "      <td>25.461</td>\n",
       "    </tr>\n",
       "    <tr>\n",
       "      <th>1</th>\n",
       "      <td>2015-01-02</td>\n",
       "      <td>27.02</td>\n",
       "      <td>24.5</td>\n",
       "      <td>33.5</td>\n",
       "      <td>0.0</td>\n",
       "      <td>0.0</td>\n",
       "      <td>28.972</td>\n",
       "    </tr>\n",
       "    <tr>\n",
       "      <th>2</th>\n",
       "      <td>2015-01-03</td>\n",
       "      <td>24.82</td>\n",
       "      <td>22.4</td>\n",
       "      <td>29.9</td>\n",
       "      <td>0.0</td>\n",
       "      <td>1.0</td>\n",
       "      <td>30.814</td>\n",
       "    </tr>\n",
       "    <tr>\n",
       "      <th>3</th>\n",
       "      <td>2015-01-04</td>\n",
       "      <td>23.98</td>\n",
       "      <td>21.5</td>\n",
       "      <td>28.6</td>\n",
       "      <td>1.2</td>\n",
       "      <td>1.0</td>\n",
       "      <td>29.799</td>\n",
       "    </tr>\n",
       "    <tr>\n",
       "      <th>4</th>\n",
       "      <td>2015-01-05</td>\n",
       "      <td>23.82</td>\n",
       "      <td>21.0</td>\n",
       "      <td>28.3</td>\n",
       "      <td>0.0</td>\n",
       "      <td>0.0</td>\n",
       "      <td>28.900</td>\n",
       "    </tr>\n",
       "  </tbody>\n",
       "</table>\n",
       "</div>"
      ],
      "text/plain": [
       "         date  avg_temp  min_temp  max_temp  rain  is_weekend  \\\n",
       "0  2015-01-01     27.30      23.9      32.5   0.0         0.0   \n",
       "1  2015-01-02     27.02      24.5      33.5   0.0         0.0   \n",
       "2  2015-01-03     24.82      22.4      29.9   0.0         1.0   \n",
       "3  2015-01-04     23.98      21.5      28.6   1.2         1.0   \n",
       "4  2015-01-05     23.82      21.0      28.3   0.0         0.0   \n",
       "\n",
       "   beer_consumption  \n",
       "0            25.461  \n",
       "1            28.972  \n",
       "2            30.814  \n",
       "3            29.799  \n",
       "4            28.900  "
      ]
     },
     "execution_count": 23,
     "metadata": {},
     "output_type": "execute_result"
    }
   ],
   "source": [
    "df.head()"
   ]
  },
  {
   "cell_type": "code",
   "execution_count": 7,
   "id": "favorite-tract",
   "metadata": {},
   "outputs": [],
   "source": [
    "def get_correlation(predictor_fields, target_field):\n",
    "    lm = LinearRegression()\n",
    "\n",
    "    X = df[predictor_fields]\n",
    "    Y = df[target_field]\n",
    "    \n",
    "    lm.fit(X, Y)\n",
    "\n",
    "    print('intercept', lm.intercept_)\n",
    "    print('slope', lm.coef_)\n",
    "    \n",
    "    print('score', lm.score(X, Y))\n",
    "    \n",
    "    return [lm.intercept_, lm.coef_]"
   ]
  },
  {
   "cell_type": "code",
   "execution_count": 8,
   "id": "familiar-liberia",
   "metadata": {},
   "outputs": [
    {
     "name": "stdout",
     "output_type": "stream",
     "text": [
      "intercept 8.5289072839855\n",
      "slope [0.79488254]\n",
      "score 0.3301820493324322\n"
     ]
    },
    {
     "data": {
      "text/plain": [
       "[8.5289072839855, array([0.79488254])]"
      ]
     },
     "execution_count": 8,
     "metadata": {},
     "output_type": "execute_result"
    }
   ],
   "source": [
    "get_correlation(['avg_temp'], 'beer_consumption')"
   ]
  },
  {
   "cell_type": "code",
   "execution_count": 9,
   "id": "express-edwards",
   "metadata": {},
   "outputs": [
    {
     "name": "stdout",
     "output_type": "stream",
     "text": [
      "intercept 14.733070429821968\n",
      "slope [0.61096562]\n",
      "score 0.1540631083123537\n"
     ]
    },
    {
     "data": {
      "text/plain": [
       "[14.733070429821968, array([0.61096562])]"
      ]
     },
     "execution_count": 9,
     "metadata": {},
     "output_type": "execute_result"
    }
   ],
   "source": [
    "get_correlation(['min_temp'], 'beer_consumption')"
   ]
  },
  {
   "cell_type": "code",
   "execution_count": 10,
   "id": "rocky-promise",
   "metadata": {},
   "outputs": [
    {
     "name": "stdout",
     "output_type": "stream",
     "text": [
      "intercept 7.974939379459311\n",
      "slope [0.65484558]\n",
      "score 0.413027909953363\n"
     ]
    },
    {
     "data": {
      "text/plain": [
       "[7.974939379459311, array([0.65484558])]"
      ]
     },
     "execution_count": 10,
     "metadata": {},
     "output_type": "execute_result"
    }
   ],
   "source": [
    "get_correlation(['max_temp'], 'beer_consumption')"
   ]
  },
  {
   "cell_type": "code",
   "execution_count": 11,
   "id": "monetary-exclusive",
   "metadata": {},
   "outputs": [
    {
     "name": "stdout",
     "output_type": "stream",
     "text": [
      "intercept 25.75812135191357\n",
      "slope [-0.06864999]\n",
      "score 0.037552356536804665\n"
     ]
    },
    {
     "data": {
      "text/plain": [
       "[25.75812135191357, array([-0.06864999])]"
      ]
     },
     "execution_count": 11,
     "metadata": {},
     "output_type": "execute_result"
    }
   ],
   "source": [
    "get_correlation(['rain'], 'beer_consumption')"
   ]
  },
  {
   "cell_type": "code",
   "execution_count": 12,
   "id": "metallic-expert",
   "metadata": {},
   "outputs": [
    {
     "name": "stdout",
     "output_type": "stream",
     "text": [
      "intercept 8.777863425699046\n",
      "slope [ 0.04124693 -0.07488587  0.65185642 -0.05605276]\n",
      "score 0.4400539694104333\n"
     ]
    },
    {
     "data": {
      "text/plain": [
       "[8.777863425699046,\n",
       " array([ 0.04124693, -0.07488587,  0.65185642, -0.05605276])]"
      ]
     },
     "execution_count": 12,
     "metadata": {},
     "output_type": "execute_result"
    }
   ],
   "source": [
    "get_correlation(['avg_temp', 'min_temp', 'max_temp', 'rain'], 'beer_consumption')"
   ]
  },
  {
   "cell_type": "code",
   "execution_count": 13,
   "id": "small-respect",
   "metadata": {},
   "outputs": [
    {
     "data": {
      "text/plain": [
       "(0.0, 39.116699999999994)"
      ]
     },
     "execution_count": 13,
     "metadata": {},
     "output_type": "execute_result"
    },
    {
     "data": {
      "image/png": "[encoded data removed]",
      "text/plain": [
       "<Figure size 432x288 with 1 Axes>"
      ]
     },
     "metadata": {
      "needs_background": "light"
     },
     "output_type": "display_data"
    }
   ],
   "source": [
    "sns.regplot(x='avg_temp', y='beer_consumption', data=df)\n",
    "plt.ylim(0,)"
   ]
  },
  {
   "cell_type": "code",
   "execution_count": 14,
   "id": "inner-junction",
   "metadata": {},
   "outputs": [
    {
     "data": {
      "text/plain": [
       "(0.0, 39.116699999999994)"
      ]
     },
     "execution_count": 14,
     "metadata": {},
     "output_type": "execute_result"
    },
    {
     "data": {
      "image/png": "[encoded data removed]",
      "text/plain": [
       "<Figure size 432x288 with 1 Axes>"
      ]
     },
     "metadata": {
      "needs_background": "light"
     },
     "output_type": "display_data"
    }
   ],
   "source": [
    "sns.regplot(x='min_temp', y='beer_consumption', data=df)\n",
    "plt.ylim(0,)"
   ]
  },
  {
   "cell_type": "code",
   "execution_count": 15,
   "id": "worth-bulgarian",
   "metadata": {},
   "outputs": [
    {
     "data": {
      "text/plain": [
       "(0.0, 39.116699999999994)"
      ]
     },
     "execution_count": 15,
     "metadata": {},
     "output_type": "execute_result"
    },
    {
     "data": {
      "image/png": "[encoded data removed]",
      "text/plain": [
       "<Figure size 432x288 with 1 Axes>"
      ]
     },
     "metadata": {
      "needs_background": "light"
     },
     "output_type": "display_data"
    }
   ],
   "source": [
    "sns.regplot(x='rain', y='beer_consumption', data=df)\n",
    "plt.ylim(0,)"
   ]
  },
  {
   "cell_type": "code",
   "execution_count": 16,
   "id": "physical-command",
   "metadata": {},
   "outputs": [
    {
     "data": {
      "text/plain": [
       "<AxesSubplot:xlabel='avg_temp', ylabel='beer_consumption'>"
      ]
     },
     "execution_count": 16,
     "metadata": {},
     "output_type": "execute_result"
    },
    {
     "data": {
      "image/png": "[encoded data removed]",
      "text/plain": [
       "<Figure size 432x288 with 1 Axes>"
      ]
     },
     "metadata": {
      "needs_background": "light"
     },
     "output_type": "display_data"
    }
   ],
   "source": [
    "sns.residplot(x='avg_temp', y='beer_consumption', data=df)"
   ]
  },
  {
   "cell_type": "code",
   "execution_count": 17,
   "id": "front-reviewer",
   "metadata": {},
   "outputs": [
    {
     "data": {
      "text/plain": [
       "<seaborn.axisgrid.FacetGrid at 0x288be7d19d0>"
      ]
     },
     "execution_count": 17,
     "metadata": {},
     "output_type": "execute_result"
    },
    {
     "data": {
      "image/png": "[encoded data removed]",
      "text/plain": [
       "<Figure size 360x360 with 1 Axes>"
      ]
     },
     "metadata": {
      "needs_background": "light"
     },
     "output_type": "display_data"
    }
   ],
   "source": [
    "sns.displot(df['beer_consumption'], kind='kde')"
   ]
  },
  {
   "cell_type": "code",
   "execution_count": 18,
   "id": "minor-architect",
   "metadata": {},
   "outputs": [
    {
     "name": "stdout",
     "output_type": "stream",
     "text": [
      "[-2.50894738e-04  7.89386647e-03  8.04151466e-01  7.25612435e+00]\n"
     ]
    },
    {
     "data": {
      "text/plain": [
       "poly1d([-2.50894738e-04,  7.89386647e-03,  8.04151466e-01,  7.25612435e+00])"
      ]
     },
     "execution_count": 18,
     "metadata": {},
     "output_type": "execute_result"
    }
   ],
   "source": [
    "f = np.polyfit(df['avg_temp'], df['beer_consumption'], 3)\n",
    "print(f)\n",
    "np.poly1d(f)"
   ]
  },
  {
   "cell_type": "code",
   "execution_count": 19,
   "id": "native-substitute",
   "metadata": {},
   "outputs": [],
   "source": [
    "pr = PolynomialFeatures(degree=2, include_bias=False)"
   ]
  },
  {
   "cell_type": "code",
   "execution_count": 20,
   "id": "municipal-knight",
   "metadata": {},
   "outputs": [
    {
     "data": {
      "text/plain": [
       "array([[ 27.3   , 745.29  ],\n",
       "       [ 27.02  , 730.0804],\n",
       "       [ 24.82  , 616.0324],\n",
       "       [ 23.98  , 575.0404],\n",
       "       [ 23.82  , 567.3924],\n",
       "       [ 23.78  , 565.4884],\n",
       "       [ 24.    , 576.    ],\n",
       "       [ 24.9   , 620.01  ],\n",
       "       [ 28.2   , 795.24  ],\n",
       "       [ 26.76  , 716.0976],\n",
       "       [ 27.62  , 762.8644],\n",
       "       [ 25.96  , 673.9216],\n",
       "       [ 25.52  , 651.2704],\n",
       "       [ 25.96  , 673.9216],\n",
       "       [ 25.86  , 668.7396],\n",
       "       [ 26.5   , 702.25  ],\n",
       "       [ 28.86  , 832.8996],\n",
       "       [ 28.26  , 798.6276],\n",
       "       [ 28.22  , 796.3684],\n",
       "       [ 27.68  , 766.1824],\n",
       "       [ 25.32  , 641.1024],\n",
       "       [ 21.74  , 472.6276],\n",
       "       [ 21.04  , 442.6816],\n",
       "       [ 23.12  , 534.5344],\n",
       "       [ 24.4   , 595.36  ],\n",
       "       [ 22.4   , 501.76  ],\n",
       "       [ 23.6   , 556.96  ],\n",
       "       [ 25.68  , 659.4624],\n",
       "       [ 25.    , 625.    ],\n",
       "       [ 22.8   , 519.84  ],\n",
       "       [ 21.64  , 468.2896],\n",
       "       [ 24.16  , 583.7056],\n",
       "       [ 22.48  , 505.3504],\n",
       "       [ 23.16  , 536.3856],\n",
       "       [ 22.12  , 489.2944],\n",
       "       [ 20.28  , 411.2784],\n",
       "       [ 21.06  , 443.5236],\n",
       "       [ 21.86  , 477.8596],\n",
       "       [ 22.76  , 518.0176],\n",
       "       [ 24.    , 576.    ],\n",
       "       [ 23.92  , 572.1664],\n",
       "       [ 25.38  , 644.1444],\n",
       "       [ 27.66  , 765.0756],\n",
       "       [ 25.54  , 652.2916],\n",
       "       [ 24.32  , 591.4624],\n",
       "       [ 22.9   , 524.41  ],\n",
       "       [ 21.6   , 466.56  ],\n",
       "       [ 22.76  , 518.0176],\n",
       "       [ 22.22  , 493.7284],\n",
       "       [ 23.92  , 572.1664],\n",
       "       [ 24.72  , 611.0784],\n",
       "       [ 25.2   , 635.04  ],\n",
       "       [ 24.44  , 597.3136],\n",
       "       [ 25.4   , 645.16  ],\n",
       "       [ 24.3   , 590.49  ],\n",
       "       [ 22.24  , 494.6176],\n",
       "       [ 24.1   , 580.81  ],\n",
       "       [ 24.64  , 607.1296],\n",
       "       [ 22.4   , 501.76  ],\n",
       "       [ 21.26  , 451.9876],\n",
       "       [ 22.16  , 491.0656],\n",
       "       [ 23.16  , 536.3856],\n",
       "       [ 23.68  , 560.7424],\n",
       "       [ 24.42  , 596.3364],\n",
       "       [ 22.6   , 510.76  ],\n",
       "       [ 21.92  , 480.4864],\n",
       "       [ 22.2   , 492.84  ],\n",
       "       [ 21.36  , 456.2496],\n",
       "       [ 23.12  , 534.5344],\n",
       "       [ 22.88  , 523.4944],\n",
       "       [ 22.26  , 495.5076],\n",
       "       [ 22.34  , 499.0756],\n",
       "       [ 22.88  , 523.4944],\n",
       "       [ 22.08  , 487.5264],\n",
       "       [ 21.92  , 480.4864],\n",
       "       [ 21.92  , 480.4864],\n",
       "       [ 21.24  , 451.1376],\n",
       "       [ 21.78  , 474.3684],\n",
       "       [ 21.64  , 468.2896],\n",
       "       [ 20.88  , 435.9744],\n",
       "       [ 19.7   , 388.09  ],\n",
       "       [ 19.88  , 395.2144],\n",
       "       [ 20.98  , 440.1604],\n",
       "       [ 21.56  , 464.8336],\n",
       "       [ 22.98  , 528.0804],\n",
       "       [ 23.32  , 543.8224],\n",
       "       [ 23.28  , 541.9584],\n",
       "       [ 22.14  , 490.1796],\n",
       "       [ 22.5   , 506.25  ],\n",
       "       [ 23.14  , 535.4596],\n",
       "       [ 22.52  , 507.1504],\n",
       "       [ 20.92  , 437.6464],\n",
       "       [ 21.02  , 441.8404],\n",
       "       [ 22.36  , 499.9696],\n",
       "       [ 22.82  , 520.7524],\n",
       "       [ 21.36  , 456.2496],\n",
       "       [ 17.38  , 302.0644],\n",
       "       [ 18.68  , 348.9424],\n",
       "       [ 19.4   , 376.36  ],\n",
       "       [ 20.46  , 418.6116],\n",
       "       [ 21.74  , 472.6276],\n",
       "       [ 19.92  , 396.8064],\n",
       "       [ 20.88  , 435.9744],\n",
       "       [ 21.7   , 470.89  ],\n",
       "       [ 21.94  , 481.3636],\n",
       "       [ 21.26  , 451.9876],\n",
       "       [ 21.42  , 458.8164],\n",
       "       [ 23.36  , 545.6896],\n",
       "       [ 22.5   , 506.25  ],\n",
       "       [ 24.    , 576.    ],\n",
       "       [ 22.52  , 507.1504],\n",
       "       [ 20.06  , 402.4036],\n",
       "       [ 21.2   , 449.44  ],\n",
       "       [ 22.52  , 507.1504],\n",
       "       [ 19.18  , 367.8724],\n",
       "       [ 19.04  , 362.5216],\n",
       "       [ 19.82  , 392.8324],\n",
       "       [ 20.26  , 410.4676],\n",
       "       [ 18.66  , 348.1956],\n",
       "       [ 16.22  , 263.0884],\n",
       "       [ 17.34  , 300.6756],\n",
       "       [ 19.26  , 370.9476],\n",
       "       [ 21.04  , 442.6816],\n",
       "       [ 19.96  , 398.4016],\n",
       "       [ 18.14  , 329.0596],\n",
       "       [ 17.76  , 315.4176],\n",
       "       [ 17.8   , 316.84  ],\n",
       "       [ 16.14  , 260.4996],\n",
       "       [ 18.04  , 325.4416],\n",
       "       [ 16.94  , 286.9636],\n",
       "       [ 17.86  , 318.9796],\n",
       "       [ 17.12  , 293.0944],\n",
       "       [ 16.34  , 266.9956],\n",
       "       [ 16.72  , 279.5584],\n",
       "       [ 16.84  , 283.5856],\n",
       "       [ 17.18  , 295.1524],\n",
       "       [ 18.26  , 333.4276],\n",
       "       [ 18.6   , 345.96  ],\n",
       "       [ 18.64  , 347.4496],\n",
       "       [ 18.74  , 351.1876],\n",
       "       [ 19.46  , 378.6916],\n",
       "       [ 20.26  , 410.4676],\n",
       "       [ 19.94  , 397.6036],\n",
       "       [ 21.8   , 475.24  ],\n",
       "       [ 22.06  , 486.6436],\n",
       "       [ 21.28  , 452.8384],\n",
       "       [ 22.94  , 526.2436],\n",
       "       [ 18.56  , 344.4736],\n",
       "       [ 17.68  , 312.5824],\n",
       "       [ 17.52  , 306.9504],\n",
       "       [ 16.28  , 265.0384],\n",
       "       [ 16.28  , 265.0384],\n",
       "       [ 16.04  , 257.2816],\n",
       "       [ 17.94  , 321.8436],\n",
       "       [ 18.36  , 337.0896],\n",
       "       [ 18.32  , 335.6224],\n",
       "       [ 19.66  , 386.5156],\n",
       "       [ 20.62  , 425.1844],\n",
       "       [ 20.86  , 435.1396],\n",
       "       [ 20.32  , 412.9024],\n",
       "       [ 20.54  , 421.8916],\n",
       "       [ 22.72  , 516.1984],\n",
       "       [ 18.8   , 353.44  ],\n",
       "       [ 21.1   , 445.21  ],\n",
       "       [ 22.76  , 518.0176],\n",
       "       [ 16.02  , 256.6404],\n",
       "       [ 14.82  , 219.6324],\n",
       "       [ 19.8   , 392.04  ],\n",
       "       [ 19.88  , 395.2144],\n",
       "       [ 14.66  , 214.9156],\n",
       "       [ 15.82  , 250.2724],\n",
       "       [ 17.32  , 299.9824],\n",
       "       [ 18.54  , 343.7316],\n",
       "       [ 19.02  , 361.7604],\n",
       "       [ 14.54  , 211.4116],\n",
       "       [ 14.72  , 216.6784],\n",
       "       [ 15.26  , 232.8676],\n",
       "       [ 15.34  , 235.3156],\n",
       "       [ 15.48  , 239.6304],\n",
       "       [ 17.2   , 295.84  ],\n",
       "       [ 19.36  , 374.8096],\n",
       "       [ 17.78  , 316.1284],\n",
       "       [ 17.2   , 295.84  ],\n",
       "       [ 17.52  , 306.9504],\n",
       "       [ 14.94  , 223.2036],\n",
       "       [ 12.9   , 166.41  ],\n",
       "       [ 15.78  , 249.0084],\n",
       "       [ 16.8   , 282.24  ],\n",
       "       [ 17.02  , 289.6804],\n",
       "       [ 17.54  , 307.6516],\n",
       "       [ 19.24  , 370.1776],\n",
       "       [ 17.46  , 304.8516],\n",
       "       [ 20.32  , 412.9024],\n",
       "       [ 22.06  , 486.6436],\n",
       "       [ 23.3   , 542.89  ],\n",
       "       [ 20.18  , 407.2324],\n",
       "       [ 19.88  , 395.2144],\n",
       "       [ 19.14  , 366.3396],\n",
       "       [ 20.2   , 408.04  ],\n",
       "       [ 19.98  , 399.2004],\n",
       "       [ 20.56  , 422.7136],\n",
       "       [ 16.72  , 279.5584],\n",
       "       [ 14.52  , 210.8304],\n",
       "       [ 17.02  , 289.6804],\n",
       "       [ 18.46  , 340.7716],\n",
       "       [ 15.9   , 252.81  ],\n",
       "       [ 16.82  , 282.9124],\n",
       "       [ 16.6   , 275.56  ],\n",
       "       [ 16.46  , 270.9316],\n",
       "       [ 16.2   , 262.44  ],\n",
       "       [ 16.76  , 280.8976],\n",
       "       [ 19.24  , 370.1776],\n",
       "       [ 19.78  , 391.2484],\n",
       "       [ 20.1   , 404.01  ],\n",
       "       [ 21.16  , 447.7456],\n",
       "       [ 21.04  , 442.6816],\n",
       "       [ 20.96  , 439.3216],\n",
       "       [ 21.06  , 443.5236],\n",
       "       [ 22.08  , 487.5264],\n",
       "       [ 21.16  , 447.7456],\n",
       "       [ 19.62  , 384.9444],\n",
       "       [ 21.2   , 449.44  ],\n",
       "       [ 19.6   , 384.16  ],\n",
       "       [ 20.12  , 404.8144],\n",
       "       [ 20.42  , 416.9764],\n",
       "       [ 20.86  , 435.1396],\n",
       "       [ 21.44  , 459.6736],\n",
       "       [ 20.56  , 422.7136],\n",
       "       [ 21.58  , 465.6964],\n",
       "       [ 21.3   , 453.69  ],\n",
       "       [ 20.74  , 430.1476],\n",
       "       [ 16.2   , 262.44  ],\n",
       "       [ 16.84  , 283.5856],\n",
       "       [ 18.08  , 326.8864],\n",
       "       [ 20.22  , 408.8484],\n",
       "       [ 16.98  , 288.3204],\n",
       "       [ 16.98  , 288.3204],\n",
       "       [ 18.92  , 357.9664],\n",
       "       [ 16.1   , 259.21  ],\n",
       "       [ 16.28  , 265.0384],\n",
       "       [ 18.46  , 340.7716],\n",
       "       [ 22.52  , 507.1504],\n",
       "       [ 24.54  , 602.2116],\n",
       "       [ 21.44  , 459.6736],\n",
       "       [ 16.1   , 259.21  ],\n",
       "       [ 19.3   , 372.49  ],\n",
       "       [ 16.66  , 277.5556],\n",
       "       [ 16.12  , 259.8544],\n",
       "       [ 16.48  , 271.5904],\n",
       "       [ 18.72  , 350.4384],\n",
       "       [ 17.08  , 291.7264],\n",
       "       [ 18.82  , 354.1924],\n",
       "       [ 18.92  , 357.9664],\n",
       "       [ 16.88  , 284.9344],\n",
       "       [ 14.    , 196.    ],\n",
       "       [ 14.18  , 201.0724],\n",
       "       [ 16.46  , 270.9316],\n",
       "       [ 21.18  , 448.5924],\n",
       "       [ 25.24  , 637.0576],\n",
       "       [ 27.26  , 743.1076],\n",
       "       [ 28.06  , 787.3636],\n",
       "       [ 28.    , 784.    ],\n",
       "       [ 23.6   , 556.96  ],\n",
       "       [ 24.72  , 611.0784],\n",
       "       [ 25.7   , 660.49  ],\n",
       "       [ 26.14  , 683.2996],\n",
       "       [ 28.3   , 800.89  ],\n",
       "       [ 23.24  , 540.0976],\n",
       "       [ 20.58  , 423.5364],\n",
       "       [ 22.3   , 497.29  ],\n",
       "       [ 21.22  , 450.2884],\n",
       "       [ 21.8   , 475.24  ],\n",
       "       [ 21.52  , 463.1104],\n",
       "       [ 20.96  , 439.3216],\n",
       "       [ 24.74  , 612.0676],\n",
       "       [ 20.28  , 411.2784],\n",
       "       [ 18.6   , 345.96  ],\n",
       "       [ 17.36  , 301.3696],\n",
       "       [ 18.26  , 333.4276],\n",
       "       [ 24.5   , 600.25  ],\n",
       "       [ 26.56  , 705.4336],\n",
       "       [ 24.52  , 601.2304],\n",
       "       [ 23.06  , 531.7636],\n",
       "       [ 22.48  , 505.3504],\n",
       "       [ 22.76  , 518.0176],\n",
       "       [ 21.4   , 457.96  ],\n",
       "       [ 23.62  , 557.9044],\n",
       "       [ 28.12  , 790.7344],\n",
       "       [ 26.24  , 688.5376],\n",
       "       [ 21.22  , 450.2884],\n",
       "       [ 16.76  , 280.8976],\n",
       "       [ 19.86  , 394.4196],\n",
       "       [ 26.3   , 691.69  ],\n",
       "       [ 24.62  , 606.1444],\n",
       "       [ 19.9   , 396.01  ],\n",
       "       [ 20.5   , 420.25  ],\n",
       "       [ 17.94  , 321.8436],\n",
       "       [ 17.64  , 311.1696],\n",
       "       [ 20.86  , 435.1396],\n",
       "       [ 22.    , 484.    ],\n",
       "       [ 20.42  , 416.9764],\n",
       "       [ 20.56  , 422.7136],\n",
       "       [ 23.86  , 569.2996],\n",
       "       [ 23.18  , 537.3124],\n",
       "       [ 20.22  , 408.8484],\n",
       "       [ 21.82  , 476.1124],\n",
       "       [ 21.86  , 477.8596],\n",
       "       [ 21.52  , 463.1104],\n",
       "       [ 21.8   , 475.24  ],\n",
       "       [ 19.76  , 390.4576],\n",
       "       [ 18.3   , 334.89  ],\n",
       "       [ 20.24  , 409.6576],\n",
       "       [ 22.98  , 528.0804],\n",
       "       [ 23.72  , 562.6384],\n",
       "       [ 26.2   , 686.44  ],\n",
       "       [ 23.78  , 565.4884],\n",
       "       [ 22.78  , 518.9284],\n",
       "       [ 25.06  , 628.0036],\n",
       "       [ 23.06  , 531.7636],\n",
       "       [ 21.16  , 447.7456],\n",
       "       [ 21.76  , 473.4976],\n",
       "       [ 25.5   , 650.25  ],\n",
       "       [ 26.16  , 684.3456],\n",
       "       [ 23.28  , 541.9584],\n",
       "       [ 19.44  , 377.9136],\n",
       "       [ 22.26  , 495.5076],\n",
       "       [ 20.8   , 432.64  ],\n",
       "       [ 21.36  , 456.2496],\n",
       "       [ 21.26  , 451.9876],\n",
       "       [ 22.28  , 496.3984],\n",
       "       [ 22.28  , 496.3984],\n",
       "       [ 23.7   , 561.69  ],\n",
       "       [ 22.38  , 500.8644],\n",
       "       [ 19.1   , 364.81  ],\n",
       "       [ 20.1   , 404.01  ],\n",
       "       [ 22.1   , 488.41  ],\n",
       "       [ 22.44  , 503.5536],\n",
       "       [ 22.76  , 518.0176],\n",
       "       [ 24.8   , 615.04  ],\n",
       "       [ 23.12  , 534.5344],\n",
       "       [ 20.04  , 401.6016],\n",
       "       [ 21.7   , 470.89  ],\n",
       "       [ 23.96  , 574.0816],\n",
       "       [ 24.    , 576.    ],\n",
       "       [ 24.04  , 577.9216],\n",
       "       [ 23.92  , 572.1664],\n",
       "       [ 24.54  , 602.2116],\n",
       "       [ 26.28  , 690.6384],\n",
       "       [ 25.66  , 658.4356],\n",
       "       [ 22.04  , 485.7616],\n",
       "       [ 23.32  , 543.8224],\n",
       "       [ 26.42  , 698.0164],\n",
       "       [ 23.74  , 563.5876],\n",
       "       [ 22.84  , 521.6656],\n",
       "       [ 23.12  , 534.5344],\n",
       "       [ 24.6   , 605.16  ],\n",
       "       [ 27.46  , 754.0516],\n",
       "       [ 24.72  , 611.0784],\n",
       "       [ 23.58  , 556.0164],\n",
       "       [ 23.34  , 544.7556],\n",
       "       [ 24.    , 576.    ],\n",
       "       [ 22.64  , 512.5696],\n",
       "       [ 21.68  , 470.0224],\n",
       "       [ 21.38  , 457.1044],\n",
       "       [ 24.76  , 613.0576]])"
      ]
     },
     "execution_count": 20,
     "metadata": {},
     "output_type": "execute_result"
    }
   ],
   "source": [
    "pr.fit_transform(df[['avg_temp']])"
   ]
  },
  {
   "cell_type": "markdown",
   "id": "canadian-multimedia",
   "metadata": {},
   "source": [
    "# Model evaluation"
   ]
  },
  {
   "cell_type": "code",
   "execution_count": 66,
   "id": "honest-documentary",
   "metadata": {},
   "outputs": [],
   "source": [
    "from sklearn.model_selection import train_test_split, cross_val_score, cross_val_predict\n",
    "from sklearn.linear_model import Ridge"
   ]
  },
  {
   "cell_type": "markdown",
   "id": "pleased-pakistan",
   "metadata": {},
   "source": [
    "### We can easily split data into train and test datasets"
   ]
  },
  {
   "cell_type": "code",
   "execution_count": 55,
   "id": "finnish-scholarship",
   "metadata": {},
   "outputs": [],
   "source": [
    "x_train, x_test, y_train, y_test = train_test_split(df[['avg_temp']], df['beer_consumption'], test_size=.3, random_state=0)"
   ]
  },
  {
   "cell_type": "markdown",
   "id": "beginning-registrar",
   "metadata": {},
   "source": [
    "### Get a cross-validated score"
   ]
  },
  {
   "cell_type": "code",
   "execution_count": 56,
   "id": "nuclear-attraction",
   "metadata": {},
   "outputs": [],
   "source": [
    "lr = LinearRegression()\n",
    "scores = cross_val_score(lr, df[['avg_temp']], df['beer_consumption'], cv=3)"
   ]
  },
  {
   "cell_type": "code",
   "execution_count": 57,
   "id": "urban-worst",
   "metadata": {},
   "outputs": [
    {
     "data": {
      "text/plain": [
       "0.24882005025895448"
      ]
     },
     "execution_count": 57,
     "metadata": {},
     "output_type": "execute_result"
    }
   ],
   "source": [
    "np.mean(scores)"
   ]
  },
  {
   "cell_type": "markdown",
   "id": "thermal-effect",
   "metadata": {},
   "source": [
    "### Get a cross-validated predictions"
   ]
  },
  {
   "cell_type": "code",
   "execution_count": 58,
   "id": "civil-commercial",
   "metadata": {},
   "outputs": [],
   "source": [
    "cross_val_predictions = cross_val_predict(lr, df[['avg_temp']], df['beer_consumption'], cv=3)"
   ]
  },
  {
   "cell_type": "markdown",
   "id": "final-mounting",
   "metadata": {},
   "source": [
    "### We can see which order of the polynomial fits the model best"
   ]
  },
  {
   "cell_type": "code",
   "execution_count": 71,
   "id": "professional-waters",
   "metadata": {},
   "outputs": [],
   "source": [
    "r_sq = []\n",
    "orders = [1, 2, 3, 4, 5, 6, 7]\n",
    "\n",
    "for order in orders:\n",
    "    lr = LinearRegression()\n",
    "\n",
    "    pr = PolynomialFeatures(degree=order)\n",
    "    \n",
    "    x_train_pr = pr.fit_transform(x_train)\n",
    "    x_test_pr = pr.fit_transform(x_test)\n",
    "\n",
    "    lr.fit(x_train_pr, y_train)\n",
    "    error = lr.score(x_test_pr, y_test)\n",
    "    r_sq.append(error)"
   ]
  },
  {
   "cell_type": "code",
   "execution_count": 76,
   "id": "spread-startup",
   "metadata": {},
   "outputs": [
    {
     "name": "stdout",
     "output_type": "stream",
     "text": [
      "r_sq [0.15758679820328425, 0.15762693753414958, 0.15802348412332312]\n",
      "best order: 3\n"
     ]
    }
   ],
   "source": [
    "print('r_sq', r_sq)\n",
    "best_r_sq = max(r_sq)\n",
    "best_order = r_sq.index(best_r_sq) + 1\n",
    "print('best order:', best_order)"
   ]
  },
  {
   "cell_type": "markdown",
   "id": "invalid-assets",
   "metadata": {},
   "source": [
    "### To avoid overfitting we might use Ridge Regression"
   ]
  },
  {
   "cell_type": "code",
   "execution_count": 81,
   "id": "amber-stage",
   "metadata": {},
   "outputs": [
    {
     "name": "stdout",
     "output_type": "stream",
     "text": [
      "r_sq [0.15758679820328425, 0.15762693753414958, 0.15802348412332312]\n",
      "best alpha: 10\n"
     ]
    }
   ],
   "source": [
    "r_sq = []\n",
    "alphas = [.1, 1, 10]\n",
    "\n",
    "for alpha in alphas:\n",
    "    r_r = Ridge(alpha=alpha)\n",
    "\n",
    "    r_r.fit(x_train, y_train)\n",
    "    \n",
    "    error = r_r.score(x_test, y_test)\n",
    "    r_sq.append(error)\n",
    "\n",
    "print('r_sq', r_sq)\n",
    "best_r_sq = max(r_sq)\n",
    "best_alpha = alphas[r_sq.index(best_r_sq)]\n",
    "print('best alpha:', best_alpha)"
   ]
  }
 ],
 "metadata": {
  "kernelspec": {
   "display_name": "Python 3",
   "language": "python",
   "name": "python3"
  },
  "language_info": {
   "codemirror_mode": {
    "name": "ipython",
    "version": 3
   },
   "file_extension": ".py",
   "mimetype": "text/x-python",
   "name": "python",
   "nbconvert_exporter": "python",
   "pygments_lexer": "ipython3",
   "version": "3.9.2"
  }
 },
 "nbformat": 4,
 "nbformat_minor": 5
}
